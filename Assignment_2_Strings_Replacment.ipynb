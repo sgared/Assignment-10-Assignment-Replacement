{
 "cells": [
  {
   "cell_type": "markdown",
   "source": [
    "INFO-B 210: Information Infrastructure I\n",
    "Assignment 2: String Variables"
   ],
   "metadata": {
    "collapsed": false
   },
   "id": "afd5f9f9438c2271"
  },
  {
   "cell_type": "markdown",
   "source": [
    "### Purpose:\n",
    "The purpose of this assignment is to utilize python programming in practical setting to solve real world problems."
   ],
   "metadata": {
    "collapsed": false
   },
   "id": "b72ef13a7ab691fe"
  },
  {
   "cell_type": "markdown",
   "source": [
    "### Skills:\n",
    "In order to complete this assignment you will need to\n",
    "use critical thinking to write code to answer the questions\n",
    "\n",
    "practice Python fundamentals and best practices"
   ],
   "metadata": {
    "collapsed": false
   },
   "id": "969b4c590d1d0de5"
  },
  {
   "cell_type": "markdown",
   "source": [
    "### Knowledge:\n",
    "\n",
    "This assignment will help you gain the following:\n",
    "\n",
    "how to create and utilize string variables\n",
    "\n",
    "utilize string operators and indices"
   ],
   "metadata": {
    "collapsed": false
   },
   "id": "d8605652c4652069"
  },
  {
   "cell_type": "markdown",
   "source": [
    "### 1. Computer literacy is a standard in most elementary school grades in Indiana. This means that students as young as 5 have to be able to login and access their school’s computer network, including a username and password. To make this simple most schools create both usernames and passwords created from the student’s first name, middle name, last name, and parent’s phone number. Write a program that will generate a user name and password from the given information. The user name should consist of the first 6 letters of their last name, the first letter of their first name, and the first letter of their middle name. The password should be the first 2 letters of their first name, the first 3 (human) even letters of their middle name (as many as possible), and the last 4 numbers of their parent’s phone number. Be certain to print the student’s user name and password to the terminal."
   ],
   "metadata": {
    "collapsed": false
   },
   "id": "4c98ac23e196b513"
  },
  {
   "cell_type": "code",
   "source": [
    "def user_name(last_name,first_name,middle_name):\n",
    "    #Create username by combining some characters from lastname, middle name, and first name\n",
    "    userName = last_name[:6] + first_name[0] + (middle_name[0] if middle_name else '')\n",
    "    \n",
    "    #return the username \n",
    "    return userName.lower() #connvert username to lowercase\n",
    "\n",
    "#create a password with the given information. \n",
    "def passWord(first_name,middle_name,parent_phone_number):\n",
    "    #create password by combining many firstname, middle name and parent phone number. \n",
    "    middle_name_length = len(middle_name)\n",
    "    if middle_name_length == 0:\n",
    "        result_mid = \"\" \n",
    "    elif middle_name_length % 2 == 0:\n",
    "        result_mid = middle_name[:3]\n",
    "    else:\n",
    "        result_mid = middle_name[::2]\n",
    "        \n",
    "    pass_word = first_name[:2] + result_mid + parent_phone_number[-4:]\n",
    "    #return the created password\n",
    "    return pass_word"
   ],
   "metadata": {
    "collapsed": false,
    "ExecuteTime": {
     "end_time": "2024-04-10T03:09:42.459683Z",
     "start_time": "2024-04-10T03:09:42.431398Z"
    }
   },
   "id": "7e4d4eee2b3b37b0",
   "outputs": [],
   "execution_count": 13
  },
  {
   "cell_type": "markdown",
   "source": [
    "### a.Linus Benedict Torvalds, (317)-555-1969"
   ],
   "metadata": {
    "collapsed": false
   },
   "id": "f65085eafe535011"
  },
  {
   "cell_type": "code",
   "source": [
    "a = user_name(\"Torvalds\",\"Benedict\",\"Linus\")\n",
    "a1 = passWord(\"Linus\",\"Benedict\",\"(317)555-1969\")\n",
    "print(\"username:\" + a)\n",
    "print(\"password:\" + a1)"
   ],
   "metadata": {
    "collapsed": false,
    "ExecuteTime": {
     "end_time": "2024-04-10T03:09:42.507322Z",
     "start_time": "2024-04-10T03:09:42.493976Z"
    }
   },
   "id": "7c5c0946755070de",
   "outputs": [
    {
     "name": "stdout",
     "output_type": "stream",
     "text": [
      "username:torvalbl\n",
      "password:LiBen1969\n"
     ]
    }
   ],
   "execution_count": 14
  },
  {
   "cell_type": "markdown",
   "source": [
    "### b.Alan Mathison Turing, (317)-555-5346"
   ],
   "metadata": {
    "collapsed": false
   },
   "id": "bc141839b684f8ee"
  },
  {
   "cell_type": "code",
   "source": [
    "b = user_name(\"Turing\",\"Alan\",\"Mathison\")\n",
    "b1 = passWord(\"Alan\",\"Mathison\",\"(317)-555-5346\")\n",
    "print(\"username:\" + b)\n",
    "print(\"password:\" + b1)"
   ],
   "metadata": {
    "collapsed": false,
    "ExecuteTime": {
     "end_time": "2024-04-10T03:09:42.540623Z",
     "start_time": "2024-04-10T03:09:42.522163Z"
    }
   },
   "id": "81f5d9a50fde79c2",
   "outputs": [
    {
     "name": "stdout",
     "output_type": "stream",
     "text": [
      "username:turingam\n",
      "password:AlMat5346\n"
     ]
    }
   ],
   "execution_count": 15
  },
  {
   "cell_type": "markdown",
   "source": [
    "### c.Stephan Gary Wozniak, (317)-555-3720"
   ],
   "metadata": {
    "collapsed": false
   },
   "id": "edde507d0f513185"
  },
  {
   "cell_type": "code",
   "source": [
    "c = user_name(\"Wozniak\",\"Stephan\",\"Gary\")\n",
    "c1 = passWord(\"Stephan\",\"Gary\",\"(317)-555-3720\")\n",
    "print(\"username:\" + c)\n",
    "print(\"password:\" + c1)"
   ],
   "metadata": {
    "collapsed": false,
    "ExecuteTime": {
     "end_time": "2024-04-10T03:09:42.556697Z",
     "start_time": "2024-04-10T03:09:42.541129Z"
    }
   },
   "id": "7becf972fbf06673",
   "outputs": [
    {
     "name": "stdout",
     "output_type": "stream",
     "text": [
      "username:wozniasg\n",
      "password:StGar3720\n"
     ]
    }
   ],
   "execution_count": 16
  },
  {
   "cell_type": "markdown",
   "source": [
    "### d.Adele Goldberg, (317)-555-2345"
   ],
   "metadata": {
    "collapsed": false
   },
   "id": "c68f574d7ca694a1"
  },
  {
   "cell_type": "code",
   "source": [
    "d = user_name(\"Goldberg\",\"Adele\",\"\")\n",
    "d1 = passWord(\"Adele\",\"\",\"(317)-555-2345\")\n",
    "print(\"username:\" + d)\n",
    "print(\"password:\" + d1)"
   ],
   "metadata": {
    "collapsed": false,
    "ExecuteTime": {
     "end_time": "2024-04-10T03:09:42.572490Z",
     "start_time": "2024-04-10T03:09:42.556697Z"
    }
   },
   "id": "f544ee3c0ec4e488",
   "outputs": [
    {
     "name": "stdout",
     "output_type": "stream",
     "text": [
      "username:goldbea\n",
      "password:Ad2345\n"
     ]
    }
   ],
   "execution_count": 17
  },
  {
   "cell_type": "markdown",
   "source": [
    "### 2. Pig Latin is a language game often played by adolescent children. The language uses English words as input, changes them into a new word, typically by extracting the first letter of the word, putting it at the end and adding the suffix “ay” to it. However, if the first letter is a vowel (a,e,i,o,u) instead, it uses moves everything up till the first consonant (non-vowel) to the end and then adds the “ay” suffix. Write a program that will take an English word as input, and output that word in Pig Latin. Print the Pig Latin word to the terminal."
   ],
   "metadata": {
    "collapsed": false
   },
   "id": "7d6272d642c728ba"
  },
  {
   "cell_type": "code",
   "source": [
    "def pig_latin_conv(word):\n",
    "    vowels = \"aeiouAEIOU\"\n",
    "    first_letter = word[0]\n",
    "    if first_letter in vowels: \n",
    "        result = word + \"ay\"\n",
    "    else:\n",
    "        #if the first letter is not vowel, move everything up tile the first \n",
    "        #consonat to the end and then add \"ay\" suffix\n",
    "         # If the first letter is a consonant, move everything up till the first consonant to the end and then add \"ay\" suffix\n",
    "        result = \" \"\n",
    "        for i, letter in enumerate(word):\n",
    "            if letter in vowels:\n",
    "                result = word[i:] + word[:i] + \"ay\"\n",
    "                break\n",
    "\n",
    "    return result\n",
    "\n",
    "# Test the function\n",
    "print(pig_latin_conv(\"apple\"))  # Output: \"appleay\"\n",
    "print(pig_latin_conv(\"banana\"))  # Output: \"ananabay\"\n",
    "print(pig_latin_conv(\"hello\"))  # Output: \"ellohay\"\n",
    "print(pig_latin_conv(\"Python\"))  # Output: \"ythonPay\""
   ],
   "metadata": {
    "collapsed": false,
    "ExecuteTime": {
     "end_time": "2024-04-10T03:09:42.588423Z",
     "start_time": "2024-04-10T03:09:42.572490Z"
    }
   },
   "id": "48fc39faa73423e2",
   "outputs": [
    {
     "name": "stdout",
     "output_type": "stream",
     "text": [
      "appleay\n",
      "ananabay\n",
      "ellohay\n",
      "onPythay\n"
     ]
    }
   ],
   "execution_count": 18
  },
  {
   "metadata": {
    "ExecuteTime": {
     "end_time": "2024-04-10T03:09:42.604542Z",
     "start_time": "2024-04-10T03:09:42.588423Z"
    }
   },
   "cell_type": "code",
   "source": "",
   "id": "e127f7e1538aebae",
   "outputs": [],
   "execution_count": 18
  },
  {
   "cell_type": "markdown",
   "source": [
    "### a. simple"
   ],
   "metadata": {
    "collapsed": false
   },
   "id": "73dffaf4b8ee7228"
  },
  {
   "cell_type": "code",
   "source": [
    "a = \"simple\"\n",
    "aa = pig_latin_conv(\"simple\")\n",
    "print(f\"Original word:{a} Pig Latin conversion: {aa}\")"
   ],
   "metadata": {
    "collapsed": false,
    "ExecuteTime": {
     "end_time": "2024-04-10T03:09:42.620414Z",
     "start_time": "2024-04-10T03:09:42.604542Z"
    }
   },
   "id": "aafa7779e019943a",
   "outputs": [
    {
     "name": "stdout",
     "output_type": "stream",
     "text": [
      "Original word:simple Pig Latin conversion: implesay\n"
     ]
    }
   ],
   "execution_count": 19
  },
  {
   "cell_type": "markdown",
   "source": [
    "### b. friends"
   ],
   "metadata": {
    "collapsed": false
   },
   "id": "17018950b70bd085"
  },
  {
   "cell_type": "code",
   "source": [
    "b= \"friends\"\n",
    "bb = pig_latin_conv(\"friends\")\n",
    "print(f\"Original word:{b} Pig Latin conversion: {bb}\")\n"
   ],
   "metadata": {
    "collapsed": false,
    "ExecuteTime": {
     "end_time": "2024-04-10T03:09:42.636258Z",
     "start_time": "2024-04-10T03:09:42.620414Z"
    }
   },
   "id": "33c970f675c918f8",
   "outputs": [
    {
     "name": "stdout",
     "output_type": "stream",
     "text": [
      "Original word:friends Pig Latin conversion: iendsfray\n"
     ]
    }
   ],
   "execution_count": 20
  },
  {
   "cell_type": "markdown",
   "source": [
    "### c. omelet"
   ],
   "metadata": {
    "collapsed": false
   },
   "id": "915af9f3baeb233f"
  },
  {
   "cell_type": "code",
   "source": [
    "c=\"omelet\"\n",
    "cc = pig_latin_conv(\"omelet\")\n",
    "print(f\"Original word:{c} Pig Latin conversion: {cc}\")"
   ],
   "metadata": {
    "collapsed": false,
    "ExecuteTime": {
     "end_time": "2024-04-10T03:09:42.652259Z",
     "start_time": "2024-04-10T03:09:42.636258Z"
    }
   },
   "id": "8495f2baaa6f779b",
   "outputs": [
    {
     "name": "stdout",
     "output_type": "stream",
     "text": [
      "Original word:omelet Pig Latin conversion: omeletay\n"
     ]
    }
   ],
   "execution_count": 21
  },
  {
   "cell_type": "markdown",
   "source": [
    "### d. ions"
   ],
   "metadata": {
    "collapsed": false
   },
   "id": "bc5b0a9243350a7"
  },
  {
   "cell_type": "code",
   "source": [
    "d = \"ions\"\n",
    "dd = pig_latin_conv(\"ions\")\n",
    "print(f\"Original word:{d} Pig Latin conversion: {dd}\")"
   ],
   "metadata": {
    "collapsed": false,
    "ExecuteTime": {
     "end_time": "2024-04-10T03:09:42.668299Z",
     "start_time": "2024-04-10T03:09:42.654275Z"
    }
   },
   "id": "11ec0ad48b010d6a",
   "outputs": [
    {
     "name": "stdout",
     "output_type": "stream",
     "text": [
      "Original word:ions Pig Latin conversion: ionsay\n"
     ]
    }
   ],
   "execution_count": 22
  },
  {
   "metadata": {
    "ExecuteTime": {
     "end_time": "2024-04-10T03:09:42.683207Z",
     "start_time": "2024-04-10T03:09:42.668299Z"
    }
   },
   "cell_type": "code",
   "source": "",
   "id": "28e2333c6ef20e35",
   "outputs": [],
   "execution_count": 22
  }
 ],
 "metadata": {
  "kernelspec": {
   "display_name": "Python 3",
   "language": "python",
   "name": "python3"
  },
  "language_info": {
   "codemirror_mode": {
    "name": "ipython",
    "version": 2
   },
   "file_extension": ".py",
   "mimetype": "text/x-python",
   "name": "python",
   "nbconvert_exporter": "python",
   "pygments_lexer": "ipython2",
   "version": "2.7.6"
  }
 },
 "nbformat": 4,
 "nbformat_minor": 5
}
